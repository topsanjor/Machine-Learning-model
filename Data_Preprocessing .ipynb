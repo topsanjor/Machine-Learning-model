{
 "cells": [
  {
   "cell_type": "code",
   "execution_count": 3,
   "metadata": {},
   "outputs": [],
   "source": [
    "import numpy as np\n",
    "import pandas as pd\n",
    "import matplotlib.pyplot as plt\n",
    "%matplotlib qt"
   ]
  },
  {
   "cell_type": "code",
   "execution_count": 4,
   "metadata": {},
   "outputs": [],
   "source": [
    "# ======= revision header data: top level metadata on the Revision\n",
    "filepath = \"data/revision.csv\"\n",
    "rev_df = pd.read_csv(filepath)\n",
    "rev_df['DATE'] = pd.to_datetime(rev_df.DATE, format='%Y-%m-%d')\n",
    "rev_df.drop_duplicates(keep='first', inplace=True)\n",
    "rev_df['ACUID'] = rev_df[\"MODEL\"] + rev_df[\"SERIAL\"]"
   ]
  },
  {
   "cell_type": "code",
   "execution_count": 5,
   "metadata": {
    "pycharm": {
     "name": "#%%\n"
    }
   },
   "outputs": [
    {
     "data": {
      "text/plain": [
       "8203"
      ]
     },
     "execution_count": 5,
     "metadata": {},
     "output_type": "execute_result"
    }
   ],
   "source": [
    "rev_df['ACUID'].nunique()"
   ]
  },
  {
   "cell_type": "code",
   "execution_count": 8,
   "metadata": {},
   "outputs": [],
   "source": [
    "# ===== sales order data: Itemized sales invoice for the service and materials used\n",
    "filepath = \"data/salesorder.csv\"\n",
    "sales_df = pd.read_csv(filepath,low_memory = False)\n",
    "# sales_df.WORKORDER = sales_df.WORKORDER.astype(int)\n",
    "sales_df.drop_duplicates(keep='first', inplace=True)"
   ]
  },
  {
   "cell_type": "code",
   "execution_count": 9,
   "metadata": {
    "pycharm": {
     "name": "#%%\n"
    }
   },
   "outputs": [],
   "source": [
    "# ===== operations data: Expanded detail of the actions performed\n",
    "filepath = \"data/operation.csv\"\n",
    "ops_df = pd.read_csv(filepath, low_memory=False)\n",
    "ops_df.drop_duplicates(keep='first', inplace=True)"
   ]
  },
  {
   "cell_type": "code",
   "execution_count": 10,
   "metadata": {
    "pycharm": {
     "name": "#%%\n"
    }
   },
   "outputs": [],
   "source": [
    "# ===== parts data: Expanded detail of the actions performed\n",
    "filepath = \"data/parts.csv\"\n",
    "parts_df = pd.read_csv(filepath, low_memory=False)\n",
    "parts_df.drop_duplicates(keep='first', inplace=True)"
   ]
  },
  {
   "cell_type": "code",
   "execution_count": 11,
   "metadata": {
    "pycharm": {
     "name": "#%%\n"
    }
   },
   "outputs": [],
   "source": [
    "# ===== task list  data: may list the standard hours for a task\n",
    "filepath = \"data/parts.csv\"\n",
    "parts_df = pd.read_csv(filepath, low_memory=False)\n",
    "ops_df.drop_duplicates(keep='first', inplace=True)"
   ]
  },
  {
   "cell_type": "code",
   "execution_count": 12,
   "metadata": {
    "pycharm": {
     "name": "#%%\n"
    }
   },
   "outputs": [],
   "source": [
    "gpbyobj = rev_df.groupby(by=[rev_df.ACUID])"
   ]
  },
  {
   "cell_type": "code",
   "execution_count": 13,
   "metadata": {
    "pycharm": {
     "name": "#%%\n"
    }
   },
   "outputs": [],
   "source": [
    "# ************** filter revision based on visit ******************\n",
    "tmp_filtered = gpbyobj.filter(lambda x: len(x) > 6)"
   ]
  },
  {
   "cell_type": "code",
   "execution_count": 21,
   "metadata": {
    "pycharm": {
     "name": "#%%\n"
    }
   },
   "outputs": [],
   "source": [
    "# tem_df = pd.merge(rev_df, sales_df, on=\"REVISION\")\n",
    "# unique_revkeys = tmp_filtered.REVISION.unique()\n",
    "# unique_saleskey = sales_df.REVISION.unique()"
   ]
  },
  {
   "cell_type": "code",
   "execution_count": 14,
   "metadata": {
    "pycharm": {
     "name": "#%%\n"
    }
   },
   "outputs": [],
   "source": [
    "# merge filtered revision and sales df\n",
    "revsales_df = pd.merge(sales_df, tmp_filtered, on=\"REVISION\")"
   ]
  },
  {
   "cell_type": "code",
   "execution_count": 15,
   "metadata": {
    "pycharm": {
     "name": "#%%\n"
    }
   },
   "outputs": [],
   "source": [
    "gpbyobj = revsales_df.groupby(by=[revsales_df.ACUID])"
   ]
  },
  {
   "cell_type": "code",
   "execution_count": 16,
   "metadata": {
    "pycharm": {
     "name": "#%%\n"
    }
   },
   "outputs": [],
   "source": [
    "tmp_size = np.array(gpbyobj.size())"
   ]
  },
  {
   "cell_type": "code",
   "execution_count": 17,
   "metadata": {
    "pycharm": {
     "name": "#%%\n"
    }
   },
   "outputs": [],
   "source": [
    "groupname = list(gpbyobj.groups.keys())"
   ]
  },
  {
   "cell_type": "code",
   "execution_count": 18,
   "metadata": {
    "pycharm": {
     "name": "#%%\n"
    }
   },
   "outputs": [],
   "source": [
    "ac_df = gpbyobj.get_group(groupname[0])"
   ]
  },
  {
   "cell_type": "code",
   "execution_count": 19,
   "metadata": {
    "pycharm": {
     "name": "#%%\n"
    }
   },
   "outputs": [
    {
     "data": {
      "text/plain": [
       "64563"
      ]
     },
     "execution_count": 19,
     "metadata": {},
     "output_type": "execute_result"
    }
   ],
   "source": [
    "revsales_df.MATERIAL_NO.nunique()\n",
    "parts_df.ITEM.nunique()"
   ]
  },
  {
   "cell_type": "code",
   "execution_count": 20,
   "metadata": {
    "pycharm": {
     "name": "#%%\n"
    }
   },
   "outputs": [],
   "source": [
    "unique_materialno = revsales_df.MATERIAL_NO.unique()\n",
    "unique_itemno = parts_df.ITEM.unique()\n",
    "matched_items = []\n",
    "\n",
    "for count,ind in enumerate(unique_materialno):\n",
    "    if ind in unique_itemno:\n",
    "        matched_items.append(ind)\n",
    "        # print(count)"
   ]
  },
  {
   "cell_type": "code",
   "execution_count": 21,
   "metadata": {
    "pycharm": {
     "name": "#%%\n"
    }
   },
   "outputs": [],
   "source": [
    "# ************** filter revsales_df based on material no ******************\n",
    "rev_sales_parts_df = pd.merge(revsales_df, parts_df, left_on=\"MATERIAL_NO\", right_on='ITEM')"
   ]
  },
  {
   "cell_type": "code",
   "execution_count": 23,
   "metadata": {
    "pycharm": {
     "name": "#%%\n"
    }
   },
   "outputs": [],
   "source": [
    "filepath = \"data/rev_sales_parts_df.csv\"\n",
    "rev_sales_parts_df.to_csv(filepath, index= False)"
   ]
  },
  {
   "cell_type": "code",
   "execution_count": 24,
   "metadata": {
    "pycharm": {
     "name": "#%%\n"
    }
   },
   "outputs": [
    {
     "data": {
      "text/plain": [
       "56142"
      ]
     },
     "execution_count": 24,
     "metadata": {},
     "output_type": "execute_result"
    }
   ],
   "source": [
    "len(matched_items)"
   ]
  },
  {
   "cell_type": "code",
   "execution_count": 25,
   "metadata": {
    "pycharm": {
     "name": "#%%\n"
    }
   },
   "outputs": [
    {
     "data": {
      "text/plain": [
       "4153"
      ]
     },
     "execution_count": 25,
     "metadata": {},
     "output_type": "execute_result"
    }
   ],
   "source": [
    "rev_sales_parts_df.ACUID.nunique()"
   ]
  }
 ],
 "metadata": {
  "kernelspec": {
   "display_name": "Python 3 (ipykernel)",
   "language": "python",
   "name": "python3"
  },
  "language_info": {
   "codemirror_mode": {
    "name": "ipython",
    "version": 3
   },
   "file_extension": ".py",
   "mimetype": "text/x-python",
   "name": "python",
   "nbconvert_exporter": "python",
   "pygments_lexer": "ipython3",
   "version": "3.8.5"
  }
 },
 "nbformat": 4,
 "nbformat_minor": 4
}
